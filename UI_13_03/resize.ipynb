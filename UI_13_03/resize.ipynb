{
 "cells": [
  {
   "cell_type": "code",
   "execution_count": 6,
   "metadata": {},
   "outputs": [],
   "source": [
    "import cv2\n",
    "\n",
    "# Load the image\n",
    "image = cv2.imread(r\"image\\2.png\")\n",
    "\n",
    "# Check if image is loaded\n",
    "if image is None:\n",
    "    print(\"Error loading image\")\n",
    "else:\n",
    "    # Apply pyramid downscaling (reduce size by half)\n",
    "    downscaled = cv2.pyrDown(image,1)\n",
    "\n",
    "    # Show original and downscaled images\n",
    "    cv2.imshow(\"Original Image\", image)\n",
    "    cv2.imshow(\"Downscaled Image\", downscaled)\n",
    "\n",
    "    # Save the downscaled image (optional)\n",
    "    cv2.imwrite(\"downscaled.png\", downscaled)\n",
    "\n",
    "    # Wait for key press and close windows\n",
    "    cv2.waitKey(0)\n",
    "    cv2.destroyAllWindows()\n"
   ]
  },
  {
   "cell_type": "code",
   "execution_count": null,
   "metadata": {},
   "outputs": [],
   "source": []
  }
 ],
 "metadata": {
  "kernelspec": {
   "display_name": "Python 3",
   "language": "python",
   "name": "python3"
  },
  "language_info": {
   "codemirror_mode": {
    "name": "ipython",
    "version": 3
   },
   "file_extension": ".py",
   "mimetype": "text/x-python",
   "name": "python",
   "nbconvert_exporter": "python",
   "pygments_lexer": "ipython3",
   "version": "3.12.2"
  }
 },
 "nbformat": 4,
 "nbformat_minor": 2
}
